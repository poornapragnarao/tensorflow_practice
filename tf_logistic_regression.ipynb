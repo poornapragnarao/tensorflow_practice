{
 "cells": [
  {
   "cell_type": "code",
   "execution_count": null,
   "metadata": {},
   "outputs": [],
   "source": [
    "import tensorflow as tf\n",
    "import numpy as np\n",
    "import matplotlib.pyplot as plt\n",
    "import csv\n",
    "\n",
    "%matplotlib inline"
   ]
  },
  {
   "cell_type": "code",
   "execution_count": null,
   "metadata": {},
   "outputs": [],
   "source": [
    "numClasses = 2\n",
    "numIter = 1500"
   ]
  },
  {
   "cell_type": "code",
   "execution_count": null,
   "metadata": {},
   "outputs": [],
   "source": [
    "numPoints = 300\n",
    "\n",
    "xmean0 = 2.15\n",
    "ymean0 = 3.45\n",
    "xstdDev0 = 0.5\n",
    "ystdDev0 = 0.5\n",
    "\n",
    "xmean1 = 3.40\n",
    "ymean1 = 3.45\n",
    "xstdDev1 = 0.5\n",
    "ystdDev1 = 0.5"
   ]
  },
  {
   "cell_type": "code",
   "execution_count": null,
   "metadata": {},
   "outputs": [],
   "source": [
    "x0 = np.random.normal(xmean0,xstdDev0,numPoints//2)\n",
    "y0 = np.random.normal(ymean0,ystdDev0,numPoints//2)\n",
    "labels0 = np.zeros(numPoints//2)\n",
    "x1 = np.random.normal(xmean1,xstdDev1,numPoints//2)\n",
    "y1 = np.random.normal(ymean1,ystdDev1,numPoints//2)\n",
    "labels1 = np.ones(numPoints//2)\n",
    "\n",
    "data0 = np.column_stack((x0,y0))\n",
    "data1 = np.column_stack((x1,y1))\n",
    "data = np.row_stack((data0,data1))\n",
    "labels = np.concatenate((labels0,labels1))\n",
    "labels_oh = tf.one_hot(indices=labels,depth=2) #one hot tf labels\n",
    "labels_oh_np = (np.arange(numClasses) == labels[:, None]).astype(np.float32) #one hot numpy labels"
   ]
  },
  {
   "cell_type": "code",
   "execution_count": null,
   "metadata": {},
   "outputs": [],
   "source": [
    "plt.plot(x0,y0,'*')\n",
    "plt.plot(x1,y1,'o')"
   ]
  },
  {
   "cell_type": "code",
   "execution_count": null,
   "metadata": {},
   "outputs": [],
   "source": [
    "W = tf.Variable(tf.zeros([2,2]),dtype=tf.float32)\n",
    "b = tf.Variable(tf.zeros([2]),dtype=tf.float32)"
   ]
  },
  {
   "cell_type": "code",
   "execution_count": null,
   "metadata": {},
   "outputs": [],
   "source": [
    "X = tf.placeholder(dtype=tf.float32,shape=(None,2))\n",
    "labels_oh_ph = tf.placeholder(dtype=tf.float32,shape=(None,2))"
   ]
  },
  {
   "cell_type": "code",
   "execution_count": null,
   "metadata": {},
   "outputs": [],
   "source": [
    "Y = tf.add(tf.matmul(X,W),b)\n",
    "Z = tf.nn.softmax(Y)"
   ]
  },
  {
   "cell_type": "code",
   "execution_count": null,
   "metadata": {},
   "outputs": [],
   "source": [
    "#error = tf.reduce_sum(((Z-labels_oh_ph)*(Z-labels_oh_ph))) # MSE error\n",
    "error = - tf.reduce_sum(labels_oh_ph * tf.log(Z))"
   ]
  },
  {
   "cell_type": "code",
   "execution_count": null,
   "metadata": {},
   "outputs": [],
   "source": [
    "optimizer = tf.train.AdamOptimizer(learning_rate=0.01)\n",
    "train = optimizer.minimize(error)"
   ]
  },
  {
   "cell_type": "code",
   "execution_count": null,
   "metadata": {},
   "outputs": [],
   "source": [
    "init = tf.global_variables_initializer()"
   ]
  },
  {
   "cell_type": "code",
   "execution_count": null,
   "metadata": {},
   "outputs": [],
   "source": [
    "error_array = []\n",
    "with tf.Session() as sess:\n",
    "    sess.run(init)\n",
    "    for iter in range(numIter):\n",
    "        sess.run(train, feed_dict={X:data, labels_oh_ph:labels_oh_np}) #numpy one hot labels as placeholder feed\n",
    "        current_error = sess.run(error, feed_dict={X:data, labels_oh_ph:labels_oh_np})\n",
    "        error_array.append(current_error)\n",
    "        print(current_error)\n",
    "        \n",
    "    m,c = sess.run([W,b])"
   ]
  },
  {
   "cell_type": "code",
   "execution_count": null,
   "metadata": {},
   "outputs": [],
   "source": [
    "print(m)\n",
    "print(c)\n",
    "\n",
    "plt.plot(x0,y0,'*')\n",
    "plt.plot(x1,y1,'o')\n",
    "x_test = np.linspace(-5,5,100)\n",
    "y_pred_plot = (-1/m[1,0])*(m[0,0]*x_test + c[0])\n",
    "plt.xlim(min(min(x0),min(x1))-0.5,max(max(x0),max(x1))+0.5)\n",
    "plt.ylim(min(min(y0),min(y1))-0.5,max(max(y0),max(y1))+0.5)\n",
    "plt.plot(x_test,y_pred_plot,'r')"
   ]
  },
  {
   "cell_type": "code",
   "execution_count": null,
   "metadata": {},
   "outputs": [],
   "source": [
    "plt.plot(error_array)"
   ]
  }
 ],
 "metadata": {
  "kernelspec": {
   "display_name": "Python 3",
   "language": "python",
   "name": "python3"
  },
  "language_info": {
   "codemirror_mode": {
    "name": "ipython",
    "version": 3
   },
   "file_extension": ".py",
   "mimetype": "text/x-python",
   "name": "python",
   "nbconvert_exporter": "python",
   "pygments_lexer": "ipython3",
   "version": "3.6.4"
  }
 },
 "nbformat": 4,
 "nbformat_minor": 2
}
